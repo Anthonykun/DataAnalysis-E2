{
 "cells": [
  {
   "cell_type": "markdown",
   "id": "df791370-b473-4de9-9a50-51c30c326bb9",
   "metadata": {},
   "source": [
    "# Math"
   ]
  },
  {
   "cell_type": "code",
   "execution_count": 3,
   "id": "d41756da-18a6-4375-9061-8c14af39d1bb",
   "metadata": {},
   "outputs": [
    {
     "name": "stdout",
     "output_type": "stream",
     "text": [
      "Hello World\n"
     ]
    }
   ],
   "source": [
    "print(\"Hello World\")"
   ]
  },
  {
   "cell_type": "code",
   "execution_count": 15,
   "id": "8e7a5925-f732-4500-9a15-010efbb4aacf",
   "metadata": {},
   "outputs": [
    {
     "name": "stdout",
     "output_type": "stream",
     "text": [
      "3\n"
     ]
    }
   ],
   "source": [
    "print( 1 + 2 )"
   ]
  },
  {
   "cell_type": "code",
   "execution_count": 16,
   "id": "4a827a60-ed2b-432b-b708-e5adb472a8c5",
   "metadata": {},
   "outputs": [
    {
     "name": "stdout",
     "output_type": "stream",
     "text": [
      "-4\n"
     ]
    }
   ],
   "source": [
    "print( 1 - 5 )"
   ]
  },
  {
   "cell_type": "code",
   "execution_count": 17,
   "id": "b4790e83-d08e-474f-9b00-a128a717108e",
   "metadata": {},
   "outputs": [
    {
     "name": "stdout",
     "output_type": "stream",
     "text": [
      "20\n",
      "0.8\n",
      "9\n",
      "5.0\n"
     ]
    }
   ],
   "source": [
    "print( 4 * 5 ) # multiplication\n",
    "print( 4 / 5 ) # division\n",
    "print( 3 ** 2 ) # exponent\n",
    "print( 25 ** 0.5 ) # square root"
   ]
  },
  {
   "cell_type": "markdown",
   "id": "44cb4879-835b-419d-a3af-942473be7f12",
   "metadata": {},
   "source": [
    "## Order of operations"
   ]
  },
  {
   "cell_type": "code",
   "execution_count": 18,
   "id": "6b3d53fc-0fa6-43a0-bd65-93a08d83f45a",
   "metadata": {},
   "outputs": [
    {
     "name": "stdout",
     "output_type": "stream",
     "text": [
      "7\n",
      "7\n",
      "9\n"
     ]
    }
   ],
   "source": [
    "print( 1 + 2 * 3 )\n",
    "print( 1 + ( 2 * 3 ) )\n",
    "print( ( 1 + 2 ) * 3 )"
   ]
  },
  {
   "cell_type": "markdown",
   "id": "2f18f307-a9af-4c7b-81da-5c24af2a3122",
   "metadata": {},
   "source": [
    "## Varibales\n",
    "A variable is a symbol that contains data"
   ]
  },
  {
   "cell_type": "code",
   "execution_count": 21,
   "id": "374400d2-1c84-45c5-b94f-97ab025243ac",
   "metadata": {},
   "outputs": [
    {
     "name": "stdout",
     "output_type": "stream",
     "text": [
      "1\n",
      "10\n",
      "10001\n"
     ]
    }
   ],
   "source": [
    "x = 1\n",
    "y = 10\n",
    "z = 10001\n",
    "print ( x )\n",
    "print ( y )\n",
    "print ( z )"
   ]
  },
  {
   "cell_type": "code",
   "execution_count": 22,
   "id": "331c7917-ff51-4a73-9aee-cf4efb9458db",
   "metadata": {},
   "outputs": [
    {
     "name": "stdout",
     "output_type": "stream",
     "text": [
      "1 10 10001\n"
     ]
    }
   ],
   "source": [
    "print( x, y, z )"
   ]
  },
  {
   "cell_type": "code",
   "execution_count": 24,
   "id": "0ea0b4c2-b35b-4fde-821d-29aeb958c435",
   "metadata": {},
   "outputs": [
    {
     "name": "stdout",
     "output_type": "stream",
     "text": [
      "11\n",
      "11\n"
     ]
    }
   ],
   "source": [
    "print( x + y)\n",
    "a = x + y\n",
    "print( a )"
   ]
  },
  {
   "cell_type": "markdown",
   "id": "29a66244-4f1c-4388-9251-d8d59518d484",
   "metadata": {},
   "source": [
    "## Dynamic typing (type of variable)"
   ]
  },
  {
   "cell_type": "code",
   "execution_count": 28,
   "id": "a383e363-bc68-4081-a45f-8275cc7e733a",
   "metadata": {},
   "outputs": [
    {
     "name": "stdout",
     "output_type": "stream",
     "text": [
      "2 <class 'int'>\n",
      "2.7 <class 'float'>\n",
      "Hello <class 'str'>\n"
     ]
    }
   ],
   "source": [
    "x = 2\n",
    "print(x, type(x))\n",
    "\n",
    "x = 2.7\n",
    "print(x, type(x))\n",
    "\n",
    "x = \"Hello\"\n",
    "print(x, type(x))"
   ]
  },
  {
   "cell_type": "markdown",
   "id": "aa1e1e43-1c4e-4fd3-b3cf-2502a3dfba0b",
   "metadata": {},
   "source": [
    "## Variable names\n",
    "\n",
    "- Contain only lower-case letters (abcde... NOT ABCDE...)\n",
    "- Multi-name variables shoulde be separatede with underscores `_`\n",
    "- Must start with a letter"
   ]
  },
  {
   "cell_type": "code",
   "execution_count": 33,
   "id": "28513e3b-ce6d-4c07-bc5c-2f673498f836",
   "metadata": {},
   "outputs": [
    {
     "name": "stdout",
     "output_type": "stream",
     "text": [
      "1 10 200\n"
     ]
    }
   ],
   "source": [
    "x0 = 1\n",
    "x1 = 10\n",
    "x2 = 200\n",
    "print(x0,x1,x2)"
   ]
  },
  {
   "cell_type": "code",
   "execution_count": 36,
   "id": "7051ba84-0dae-4034-b3a3-dc095f350b24",
   "metadata": {},
   "outputs": [
    {
     "ename": "SyntaxError",
     "evalue": "invalid hexadecimal literal (1198918811.py, line 1)",
     "output_type": "error",
     "traceback": [
      "\u001b[1;36m  Cell \u001b[1;32mIn[36], line 1\u001b[1;36m\u001b[0m\n\u001b[1;33m    0x = 100\u001b[0m\n\u001b[1;37m     ^\u001b[0m\n\u001b[1;31mSyntaxError\u001b[0m\u001b[1;31m:\u001b[0m invalid hexadecimal literal\n"
     ]
    }
   ],
   "source": [
    "0x = 100"
   ]
  },
  {
   "cell_type": "code",
   "execution_count": 38,
   "id": "9d38f935-2e91-4d80-b0d9-ee2de63e1c9d",
   "metadata": {},
   "outputs": [
    {
     "name": "stdout",
     "output_type": "stream",
     "text": [
      "100\n"
     ]
    }
   ],
   "source": [
    "x9911231564684132189516651 = 100\n",
    "print(x9911231564684132189516651)"
   ]
  },
  {
   "cell_type": "code",
   "execution_count": 37,
   "id": "b4b18e85-d2ff-42fa-9583-8fce508c40cf",
   "metadata": {},
   "outputs": [
    {
     "name": "stdout",
     "output_type": "stream",
     "text": [
      "100\n",
      "1000\n",
      "10\n",
      "200\n"
     ]
    }
   ],
   "source": [
    "a = 1\n",
    "x = 10\n",
    "abc = 100\n",
    "\n",
    "print(abc)\n",
    "\n",
    "ABC = 1000 # not an error, but not Python convention\n",
    "print(ABC)\n",
    "\n",
    "my_favorite_ice_cream = 10 # alligned with Python convention\n",
    "print(my_favorite_ice_cream)\n",
    "\n",
    "myFavoriteIceCream = 200 # not an error, but not Python convention\n",
    "print(myFavoriteIceCream)"
   ]
  },
  {
   "cell_type": "markdown",
   "id": "06a2a63e-2c42-4243-90e2-9daec40f1038",
   "metadata": {},
   "source": [
    "## Lists and tuples\n",
    "A list contains multiple variables in a sequence\n",
    "A tuple is a list that cannot be changed"
   ]
  },
  {
   "cell_type": "code",
   "execution_count": 42,
   "id": "434618e6-e3d8-4739-aad4-a23b4f3c062f",
   "metadata": {},
   "outputs": [
    {
     "name": "stdout",
     "output_type": "stream",
     "text": [
      "[0, 5, 8]\n",
      "<class 'list'>\n",
      "(0, 5, 8)\n",
      "<class 'tuple'>\n"
     ]
    }
   ],
   "source": [
    "x = [0,5,8]\n",
    "y = (0,5,8)\n",
    "\n",
    "print(x)\n",
    "print(type(x))\n",
    "print(y)\n",
    "print(type(y))"
   ]
  },
  {
   "cell_type": "code",
   "execution_count": 44,
   "id": "4af10305-992e-4c98-8a3c-14b28edc3dc5",
   "metadata": {},
   "outputs": [
    {
     "name": "stdout",
     "output_type": "stream",
     "text": [
      "0\n",
      "5\n",
      "8\n"
     ]
    }
   ],
   "source": [
    "x = [0,5,8]\n",
    "\n",
    "print(x[0]) # first element of x; \"zero indexing\"\n",
    "print(x[1]) # second element of x\n",
    "print(x[2]) # third element of x"
   ]
  },
  {
   "cell_type": "code",
   "execution_count": 45,
   "id": "f9ad2698-b99d-4d83-9b54-d1302ebe0dce",
   "metadata": {},
   "outputs": [
    {
     "ename": "IndexError",
     "evalue": "list index out of range",
     "output_type": "error",
     "traceback": [
      "\u001b[1;31m---------------------------------------------------------------------------\u001b[0m",
      "\u001b[1;31mIndexError\u001b[0m                                Traceback (most recent call last)",
      "Cell \u001b[1;32mIn[45], line 1\u001b[0m\n\u001b[1;32m----> 1\u001b[0m \u001b[38;5;28mprint\u001b[39m(x[\u001b[38;5;241m3\u001b[39m])\n",
      "\u001b[1;31mIndexError\u001b[0m: list index out of range"
     ]
    }
   ],
   "source": [
    "print(x[3])"
   ]
  },
  {
   "cell_type": "code",
   "execution_count": 47,
   "id": "effad683-b513-4b29-b973-afabaf3f4808",
   "metadata": {},
   "outputs": [
    {
     "name": "stdout",
     "output_type": "stream",
     "text": [
      "8\n",
      "5\n",
      "0\n"
     ]
    }
   ],
   "source": [
    "print(x[-1]) # Last element\n",
    "print(x[-2]) # Second last element\n",
    "print(x[-3]) # Third last element"
   ]
  },
  {
   "cell_type": "code",
   "execution_count": 48,
   "id": "4f996a44-7961-4dcb-afd0-5e682959efd2",
   "metadata": {},
   "outputs": [
    {
     "ename": "IndexError",
     "evalue": "list index out of range",
     "output_type": "error",
     "traceback": [
      "\u001b[1;31m---------------------------------------------------------------------------\u001b[0m",
      "\u001b[1;31mIndexError\u001b[0m                                Traceback (most recent call last)",
      "Cell \u001b[1;32mIn[48], line 1\u001b[0m\n\u001b[1;32m----> 1\u001b[0m \u001b[38;5;28mprint\u001b[39m(x[\u001b[38;5;241m-\u001b[39m\u001b[38;5;241m4\u001b[39m])\n",
      "\u001b[1;31mIndexError\u001b[0m: list index out of range"
     ]
    }
   ],
   "source": [
    "print(x[-4]) # Fourth last element"
   ]
  },
  {
   "cell_type": "code",
   "execution_count": 49,
   "id": "3469caf8-31d6-4291-9c2e-1b5782c3bbb0",
   "metadata": {},
   "outputs": [
    {
     "name": "stdout",
     "output_type": "stream",
     "text": [
      "[2000, -5, 100]\n"
     ]
    }
   ],
   "source": [
    "x = [0,10,100]\n",
    "x[0] = 2000\n",
    "x[1] = -5\n",
    "\n",
    "print(x)"
   ]
  },
  {
   "cell_type": "code",
   "execution_count": 50,
   "id": "eb414d4c-37bb-45dd-8960-20b6be1ae69c",
   "metadata": {},
   "outputs": [
    {
     "name": "stdout",
     "output_type": "stream",
     "text": [
      "0\n"
     ]
    }
   ],
   "source": [
    "x = (0,10,100)\n",
    "print(x[0])"
   ]
  },
  {
   "cell_type": "code",
   "execution_count": 51,
   "id": "42bb0aeb-67a7-460a-b07e-3f58658eb243",
   "metadata": {},
   "outputs": [
    {
     "ename": "TypeError",
     "evalue": "'tuple' object is not callable",
     "output_type": "error",
     "traceback": [
      "\u001b[1;31m---------------------------------------------------------------------------\u001b[0m",
      "\u001b[1;31mTypeError\u001b[0m                                 Traceback (most recent call last)",
      "Cell \u001b[1;32mIn[51], line 1\u001b[0m\n\u001b[1;32m----> 1\u001b[0m \u001b[38;5;28mprint\u001b[39m(x(\u001b[38;5;241m0\u001b[39m))\n",
      "\u001b[1;31mTypeError\u001b[0m: 'tuple' object is not callable"
     ]
    }
   ],
   "source": [
    "print(x(0))"
   ]
  },
  {
   "cell_type": "code",
   "execution_count": 52,
   "id": "5685f743-4b83-4c3a-b18f-f8a0ee9af983",
   "metadata": {},
   "outputs": [
    {
     "ename": "TypeError",
     "evalue": "'tuple' object does not support item assignment",
     "output_type": "error",
     "traceback": [
      "\u001b[1;31m---------------------------------------------------------------------------\u001b[0m",
      "\u001b[1;31mTypeError\u001b[0m                                 Traceback (most recent call last)",
      "Cell \u001b[1;32mIn[52], line 2\u001b[0m\n\u001b[0;32m      1\u001b[0m x \u001b[38;5;241m=\u001b[39m (\u001b[38;5;241m0\u001b[39m,\u001b[38;5;241m10\u001b[39m,\u001b[38;5;241m100\u001b[39m)\n\u001b[1;32m----> 2\u001b[0m x[\u001b[38;5;241m0\u001b[39m] \u001b[38;5;241m=\u001b[39m \u001b[38;5;241m200\u001b[39m\n",
      "\u001b[1;31mTypeError\u001b[0m: 'tuple' object does not support item assignment"
     ]
    }
   ],
   "source": [
    "x = (0,10,100)\n",
    "x[0] = 200"
   ]
  },
  {
   "cell_type": "code",
   "execution_count": 53,
   "id": "89b7a0ec-7d3a-4217-ac4d-c761637d7f3b",
   "metadata": {},
   "outputs": [],
   "source": [
    "g = (0,0,-9812) # gravity vector does not change, so use a tuple"
   ]
  },
  {
   "cell_type": "markdown",
   "id": "87ecce85-9d57-4d5a-ac4c-f3248c64044e",
   "metadata": {},
   "source": [
    "# Arrays\n",
    "\n",
    "Creating arrays is usually done in Python using the NumPy package\n",
    "\n",
    "NumPy : Numerical Python\n",
    "\n",
    "- A package is like a librarym containing several programming tools like functions and variables.\n",
    "- Packages must be accessed using the \"import\" command in Python."
   ]
  },
  {
   "cell_type": "code",
   "execution_count": 57,
   "id": "69410304-d734-4ddb-853b-10901a7a1b84",
   "metadata": {},
   "outputs": [
    {
     "name": "stdout",
     "output_type": "stream",
     "text": [
      "[0 5 8] <class 'numpy.ndarray'>\n"
     ]
    }
   ],
   "source": [
    "import numpy\n",
    "\n",
    "x = numpy.array([0,5,8])\n",
    "\n",
    "print(x, type(x)) # n-dimensional array"
   ]
  },
  {
   "cell_type": "code",
   "execution_count": 58,
   "id": "e2149cbc-feb8-46c0-9541-d77940d50953",
   "metadata": {},
   "outputs": [
    {
     "name": "stdout",
     "output_type": "stream",
     "text": [
      "0\n",
      "5\n"
     ]
    }
   ],
   "source": [
    "print(x[0])\n",
    "print(x[1])"
   ]
  },
  {
   "cell_type": "code",
   "execution_count": 61,
   "id": "ca30a6e5-7d33-4579-bdf0-184d0a9c4438",
   "metadata": {},
   "outputs": [
    {
     "name": "stdout",
     "output_type": "stream",
     "text": [
      "[1 6 9]\n",
      "[ 0 10 16]\n",
      "[0.   1.25 2.  ]\n",
      "[ 0 25 64]\n",
      "[0.         2.23606798 2.82842712]\n"
     ]
    }
   ],
   "source": [
    "print(x+1)\n",
    "print(x*2)\n",
    "print(x/4)\n",
    "print(x**2)\n",
    "print(x**0.5)"
   ]
  },
  {
   "cell_type": "code",
   "execution_count": 60,
   "id": "e86ca5b8-3441-45e8-93a3-06e556e5b407",
   "metadata": {},
   "outputs": [
    {
     "ename": "TypeError",
     "evalue": "can only concatenate list (not \"int\") to list",
     "output_type": "error",
     "traceback": [
      "\u001b[1;31m---------------------------------------------------------------------------\u001b[0m",
      "\u001b[1;31mTypeError\u001b[0m                                 Traceback (most recent call last)",
      "Cell \u001b[1;32mIn[60], line 2\u001b[0m\n\u001b[0;32m      1\u001b[0m a \u001b[38;5;241m=\u001b[39m [\u001b[38;5;241m0\u001b[39m,\u001b[38;5;241m5\u001b[39m,\u001b[38;5;241m8\u001b[39m]\n\u001b[1;32m----> 2\u001b[0m \u001b[38;5;28mprint\u001b[39m(a\u001b[38;5;241m+\u001b[39m\u001b[38;5;241m1\u001b[39m)\n",
      "\u001b[1;31mTypeError\u001b[0m: can only concatenate list (not \"int\") to list"
     ]
    }
   ],
   "source": [
    "a = [0,5,8]\n",
    "print(a+1)"
   ]
  },
  {
   "cell_type": "code",
   "execution_count": 62,
   "id": "668c9949-26dd-4d13-b8de-11fb00f55a64",
   "metadata": {},
   "outputs": [
    {
     "name": "stdout",
     "output_type": "stream",
     "text": [
      "[10 11  5]\n"
     ]
    }
   ],
   "source": [
    "import numpy as np\n",
    "a = np.array([0,1,5])\n",
    "b = np.array([10,10,0])\n",
    "\n",
    "print(a+b)"
   ]
  },
  {
   "cell_type": "code",
   "execution_count": 63,
   "id": "026cb88a-72e4-4a1a-a8d5-74e5cd47ac10",
   "metadata": {},
   "outputs": [
    {
     "name": "stdout",
     "output_type": "stream",
     "text": [
      "[0, 1, 5, 10, 10, 0]\n"
     ]
    }
   ],
   "source": [
    "c = [0,1,5]\n",
    "d = [10,10,0]\n",
    "\n",
    "print(c+d)"
   ]
  },
  {
   "cell_type": "markdown",
   "id": "6ccdb0a9-f459-4d4b-ad20-1ec176bd8bf6",
   "metadata": {},
   "source": [
    "# Functions\n",
    "A function accepts inputs variables (called \"input arguments\"), performs calculations, and then returns output variables (called \"output arguments\") to the caller."
   ]
  },
  {
   "cell_type": "code",
   "execution_count": 67,
   "id": "973c8935-0376-45ca-8925-e01b61e50388",
   "metadata": {},
   "outputs": [
    {
     "name": "stdout",
     "output_type": "stream",
     "text": [
      "11\n",
      "11\n"
     ]
    }
   ],
   "source": [
    "def my_function(x):\n",
    "    y = x + 1\n",
    "    return y\n",
    "\n",
    "print(my_function(10))\n",
    "\n",
    "a = my_function(10)\n",
    "\n",
    "print(a)"
   ]
  },
  {
   "cell_type": "markdown",
   "id": "51883844-242b-4c2a-aa2e-394957d9480b",
   "metadata": {},
   "source": [
    "- `def`: define function\n",
    "- `my_function` is the function name (should be named like variable names by convention)\n",
    "- `x`: input argument\n",
    "- `y`: output argument\n",
    "- `return` indicates that the function is finished"
   ]
  },
  {
   "cell_type": "code",
   "execution_count": 71,
   "id": "4dd299c4-e21c-4ffe-a9b2-acc8b21cf8cd",
   "metadata": {},
   "outputs": [
    {
     "name": "stdout",
     "output_type": "stream",
     "text": [
      "3 100\n"
     ]
    }
   ],
   "source": [
    "def my_function(x,y):\n",
    "    z = x + y\n",
    "    q = 100\n",
    "    return z, q\n",
    "\n",
    "a,b = my_function(1,2)\n",
    "print(a,b)"
   ]
  },
  {
   "cell_type": "code",
   "execution_count": 74,
   "id": "06b9e35f-0a86-4c08-b155-5394e965bedf",
   "metadata": {},
   "outputs": [
    {
     "name": "stdout",
     "output_type": "stream",
     "text": [
      "[1, 2]\n",
      "[1 2]\n"
     ]
    }
   ],
   "source": [
    "a = [1,2] # Lists do appear with comma when being printed\n",
    "print(a)\n",
    "\n",
    "a = np.array([1,2]) # Arrays do\n",
    "print(a)"
   ]
  },
  {
   "cell_type": "code",
   "execution_count": null,
   "id": "7b5b65f7-5245-4bd8-a21a-8bdc78ea6769",
   "metadata": {},
   "outputs": [],
   "source": []
  }
 ],
 "metadata": {
  "kernelspec": {
   "display_name": "Python [conda env:base] *",
   "language": "python",
   "name": "conda-base-py"
  },
  "language_info": {
   "codemirror_mode": {
    "name": "ipython",
    "version": 3
   },
   "file_extension": ".py",
   "mimetype": "text/x-python",
   "name": "python",
   "nbconvert_exporter": "python",
   "pygments_lexer": "ipython3",
   "version": "3.13.5"
  }
 },
 "nbformat": 4,
 "nbformat_minor": 5
}
